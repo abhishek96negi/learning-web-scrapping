{
 "cells": [
  {
   "cell_type": "markdown",
   "id": "2b914260",
   "metadata": {},
   "source": [
    "# Webscrapping \n",
    "\n",
    "**Wesite Name** - [bookstoscrape](https://books.toscrape.com/)"
   ]
  },
  {
   "cell_type": "code",
   "execution_count": 1,
   "id": "aa9fb8b3",
   "metadata": {},
   "outputs": [
    {
     "name": "stdout",
     "output_type": "stream",
     "text": [
      "Requirement already satisfied: beautifulsoup4 in /Users/abhisheknegi/opt/anaconda3/envs/dorami/lib/python3.10/site-packages (4.12.2)\n",
      "Requirement already satisfied: soupsieve>1.2 in /Users/abhisheknegi/opt/anaconda3/envs/dorami/lib/python3.10/site-packages (from beautifulsoup4) (2.4.1)\n",
      "Requirement already satisfied: requests in /Users/abhisheknegi/opt/anaconda3/envs/dorami/lib/python3.10/site-packages (2.28.2)\n",
      "Requirement already satisfied: charset-normalizer<4,>=2 in /Users/abhisheknegi/opt/anaconda3/envs/dorami/lib/python3.10/site-packages (from requests) (3.1.0)\n",
      "Requirement already satisfied: idna<4,>=2.5 in /Users/abhisheknegi/opt/anaconda3/envs/dorami/lib/python3.10/site-packages (from requests) (3.4)\n",
      "Requirement already satisfied: certifi>=2017.4.17 in /Users/abhisheknegi/opt/anaconda3/envs/dorami/lib/python3.10/site-packages (from requests) (2022.12.7)\n",
      "Requirement already satisfied: urllib3<1.27,>=1.21.1 in /Users/abhisheknegi/opt/anaconda3/envs/dorami/lib/python3.10/site-packages (from requests) (1.26.15)\n",
      "Requirement already satisfied: pandas in /Users/abhisheknegi/opt/anaconda3/envs/dorami/lib/python3.10/site-packages (1.5.3)\n",
      "Requirement already satisfied: numpy>=1.21.0 in /Users/abhisheknegi/opt/anaconda3/envs/dorami/lib/python3.10/site-packages (from pandas) (1.23.5)\n",
      "Requirement already satisfied: python-dateutil>=2.8.1 in /Users/abhisheknegi/opt/anaconda3/envs/dorami/lib/python3.10/site-packages (from pandas) (2.8.2)\n",
      "Requirement already satisfied: pytz>=2020.1 in /Users/abhisheknegi/opt/anaconda3/envs/dorami/lib/python3.10/site-packages (from pandas) (2023.3)\n",
      "Requirement already satisfied: six>=1.5 in /Users/abhisheknegi/opt/anaconda3/envs/dorami/lib/python3.10/site-packages (from python-dateutil>=2.8.1->pandas) (1.12.0)\n"
     ]
    }
   ],
   "source": [
    "# Package Requirements\n",
    "\n",
    "!pip install beautifulsoup4\n",
    "!pip install requests\n",
    "!pip install pandas"
   ]
  },
  {
   "cell_type": "code",
   "execution_count": 2,
   "id": "74ae79e2",
   "metadata": {},
   "outputs": [],
   "source": [
    "# Importing the Packages\n",
    "import requests\n",
    "from bs4 import BeautifulSoup\n",
    "import pandas as pd\n",
    "\n",
    "# Create an empty list to store books\n",
    "book_list = []\n",
    "\n",
    "# Iterate through page numbers (0 to 50)\n",
    "for page_number in range(51):\n",
    "    url = f'http://books.toscrape.com/catalogue/page-{page_number}.html'\n",
    "    \n",
    "    # Send a GET request to the URL\n",
    "    response = requests.get(url)\n",
    "    \n",
    "    # Create a BeautifulSoup object from the response text\n",
    "    soup = BeautifulSoup(response.text, 'lxml')\n",
    "    \n",
    "    # Find all article elements with class 'product_pod'\n",
    "    articles = soup.find_all('article', class_='product_pod')\n",
    "    \n",
    "    # Iterate through each article\n",
    "    for article in articles:\n",
    "        # Extract book title from the second 'a' element's 'title' attribute\n",
    "        title = article.find_all('a')[1]['title']\n",
    "        \n",
    "        # Extract the price value and remove the currency symbol\n",
    "        price = article.find('p', class_='price_color').text[2:]\n",
    "        \n",
    "        # Extract the availability status and remove extra whitespaces\n",
    "        instock = article.find('p', class_='instock availability').text.strip()\n",
    "        \n",
    "        # Create a dictionary for the book's details\n",
    "        book = {\n",
    "            'Title': title,\n",
    "            'Price': price,\n",
    "            'In-Stock': instock\n",
    "        }\n",
    "        \n",
    "        # Append the book dictionary to the book_list\n",
    "        book_list.append(book)\n"
   ]
  },
  {
   "cell_type": "code",
   "execution_count": 3,
   "id": "4cd4874c",
   "metadata": {},
   "outputs": [
    {
     "data": {
      "text/plain": [
       "1000"
      ]
     },
     "execution_count": 3,
     "metadata": {},
     "output_type": "execute_result"
    }
   ],
   "source": [
    "# Calculate the length of the book_list\n",
    "len(book_list)"
   ]
  },
  {
   "cell_type": "code",
   "execution_count": 4,
   "id": "2efe9b46",
   "metadata": {},
   "outputs": [
    {
     "data": {
      "text/html": [
       "<div>\n",
       "<style scoped>\n",
       "    .dataframe tbody tr th:only-of-type {\n",
       "        vertical-align: middle;\n",
       "    }\n",
       "\n",
       "    .dataframe tbody tr th {\n",
       "        vertical-align: top;\n",
       "    }\n",
       "\n",
       "    .dataframe thead th {\n",
       "        text-align: right;\n",
       "    }\n",
       "</style>\n",
       "<table border=\"1\" class=\"dataframe\">\n",
       "  <thead>\n",
       "    <tr style=\"text-align: right;\">\n",
       "      <th></th>\n",
       "      <th>Title</th>\n",
       "      <th>Price</th>\n",
       "      <th>In-Stock</th>\n",
       "    </tr>\n",
       "  </thead>\n",
       "  <tbody>\n",
       "    <tr>\n",
       "      <th>0</th>\n",
       "      <td>A Light in the Attic</td>\n",
       "      <td>51.77</td>\n",
       "      <td>In stock</td>\n",
       "    </tr>\n",
       "    <tr>\n",
       "      <th>1</th>\n",
       "      <td>Tipping the Velvet</td>\n",
       "      <td>53.74</td>\n",
       "      <td>In stock</td>\n",
       "    </tr>\n",
       "    <tr>\n",
       "      <th>2</th>\n",
       "      <td>Soumission</td>\n",
       "      <td>50.10</td>\n",
       "      <td>In stock</td>\n",
       "    </tr>\n",
       "    <tr>\n",
       "      <th>3</th>\n",
       "      <td>Sharp Objects</td>\n",
       "      <td>47.82</td>\n",
       "      <td>In stock</td>\n",
       "    </tr>\n",
       "    <tr>\n",
       "      <th>4</th>\n",
       "      <td>Sapiens: A Brief History of Humankind</td>\n",
       "      <td>54.23</td>\n",
       "      <td>In stock</td>\n",
       "    </tr>\n",
       "    <tr>\n",
       "      <th>...</th>\n",
       "      <td>...</td>\n",
       "      <td>...</td>\n",
       "      <td>...</td>\n",
       "    </tr>\n",
       "    <tr>\n",
       "      <th>995</th>\n",
       "      <td>Alice in Wonderland (Alice's Adventures in Won...</td>\n",
       "      <td>55.53</td>\n",
       "      <td>In stock</td>\n",
       "    </tr>\n",
       "    <tr>\n",
       "      <th>996</th>\n",
       "      <td>Ajin: Demi-Human, Volume 1 (Ajin: Demi-Human #1)</td>\n",
       "      <td>57.06</td>\n",
       "      <td>In stock</td>\n",
       "    </tr>\n",
       "    <tr>\n",
       "      <th>997</th>\n",
       "      <td>A Spy's Devotion (The Regency Spies of London #1)</td>\n",
       "      <td>16.97</td>\n",
       "      <td>In stock</td>\n",
       "    </tr>\n",
       "    <tr>\n",
       "      <th>998</th>\n",
       "      <td>1st to Die (Women's Murder Club #1)</td>\n",
       "      <td>53.98</td>\n",
       "      <td>In stock</td>\n",
       "    </tr>\n",
       "    <tr>\n",
       "      <th>999</th>\n",
       "      <td>1,000 Places to See Before You Die</td>\n",
       "      <td>26.08</td>\n",
       "      <td>In stock</td>\n",
       "    </tr>\n",
       "  </tbody>\n",
       "</table>\n",
       "<p>1000 rows × 3 columns</p>\n",
       "</div>"
      ],
      "text/plain": [
       "                                                 Title  Price  In-Stock\n",
       "0                                 A Light in the Attic  51.77  In stock\n",
       "1                                   Tipping the Velvet  53.74  In stock\n",
       "2                                           Soumission  50.10  In stock\n",
       "3                                        Sharp Objects  47.82  In stock\n",
       "4                Sapiens: A Brief History of Humankind  54.23  In stock\n",
       "..                                                 ...    ...       ...\n",
       "995  Alice in Wonderland (Alice's Adventures in Won...  55.53  In stock\n",
       "996   Ajin: Demi-Human, Volume 1 (Ajin: Demi-Human #1)  57.06  In stock\n",
       "997  A Spy's Devotion (The Regency Spies of London #1)  16.97  In stock\n",
       "998                1st to Die (Women's Murder Club #1)  53.98  In stock\n",
       "999                 1,000 Places to See Before You Die  26.08  In stock\n",
       "\n",
       "[1000 rows x 3 columns]"
      ]
     },
     "execution_count": 4,
     "metadata": {},
     "output_type": "execute_result"
    }
   ],
   "source": [
    "# Create a DataFrame from the book_list\n",
    "book_dataframe = pd.DataFrame(book_list)\n",
    "book_dataframe"
   ]
  }
 ],
 "metadata": {
  "kernelspec": {
   "display_name": "Python 3 (ipykernel)",
   "language": "python",
   "name": "python3"
  },
  "language_info": {
   "codemirror_mode": {
    "name": "ipython",
    "version": 3
   },
   "file_extension": ".py",
   "mimetype": "text/x-python",
   "name": "python",
   "nbconvert_exporter": "python",
   "pygments_lexer": "ipython3",
   "version": "3.10.11"
  }
 },
 "nbformat": 4,
 "nbformat_minor": 5
}
