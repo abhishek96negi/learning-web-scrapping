{
 "cells": [
  {
   "cell_type": "code",
   "execution_count": 7,
   "id": "d8467b3d",
   "metadata": {},
   "outputs": [
    {
     "data": {
      "text/plain": [
       "<Response [200]>"
      ]
     },
     "execution_count": 7,
     "metadata": {},
     "output_type": "execute_result"
    }
   ],
   "source": [
    "# https://free-proxy-list.net/\n",
    "import requests\n",
    "\n",
    "proxies = '180.248.169.146:8080'\n",
    "\n",
    "r = requests.get('https://httpbin.org/ip', proxies={'https': proxies, 'http': proxies}, timeout=3)\n",
    "r"
   ]
  },
  {
   "cell_type": "code",
   "execution_count": 8,
   "id": "7d6cd757",
   "metadata": {},
   "outputs": [
    {
     "data": {
      "text/plain": [
       "{'origin': '180.248.169.146'}"
      ]
     },
     "execution_count": 8,
     "metadata": {},
     "output_type": "execute_result"
    }
   ],
   "source": [
    "r.json()"
   ]
  },
  {
   "cell_type": "code",
   "execution_count": 5,
   "id": "937cd3f9",
   "metadata": {},
   "outputs": [
    {
     "name": "stdout",
     "output_type": "stream",
     "text": [
      "{'origin': '180.248.169.146'} 200\n",
      "{'origin': '50.114.128.23'} 200\n",
      "{'origin': '149.19.224.37'} 200\n",
      "{'origin': '178.62.85.75'} 200\n"
     ]
    }
   ],
   "source": [
    "import requests\n",
    "from bs4 import BeautifulSoup\n",
    "import random\n",
    "import concurrent.futures\n",
    "\n",
    "#get the list of free proxies\n",
    "def getProxies():\n",
    "    r = requests.get('https://free-proxy-list.net/')\n",
    "    soup = BeautifulSoup(r.content, 'html.parser')\n",
    "    table = soup.find('tbody')\n",
    "    proxies = []\n",
    "    for row in table:\n",
    "        if row.find_all('td')[4].text =='elite proxy':\n",
    "            proxy = ':'.join([row.find_all('td')[0].text, row.find_all('td')[1].text])\n",
    "            proxies.append(proxy)\n",
    "        else:\n",
    "            pass\n",
    "    return proxies\n",
    "\n",
    "def extract(proxy):\n",
    "    #this was for when we took a list into the function, without conc futures.\n",
    "    #proxy = random.choice(proxylist)\n",
    "    headers = {'User-Agent': 'Mozilla/5.0 (Windows NT 10.0; Win64; x64; rv:80.0) Gecko/20100101 Firefox/80.0'}\n",
    "    try:\n",
    "        #change the url to https://httpbin.org/ip that doesnt block anything\n",
    "        r = requests.get('https://httpbin.org/ip', headers=headers, proxies={'http' : proxy,'https': proxy}, timeout=1)\n",
    "        print(r.json(), r.status_code)\n",
    "    except:\n",
    "        pass\n",
    "    return proxy\n",
    "\n",
    "proxylist = getProxies()\n",
    "#print(len(proxylist))\n",
    "\n",
    "#check them all with futures super quick\n",
    "with concurrent.futures.ThreadPoolExecutor() as executor:\n",
    "        executor.map(extract, proxylist)"
   ]
  }
 ],
 "metadata": {
  "kernelspec": {
   "display_name": "Python 3 (ipykernel)",
   "language": "python",
   "name": "python3"
  },
  "language_info": {
   "codemirror_mode": {
    "name": "ipython",
    "version": 3
   },
   "file_extension": ".py",
   "mimetype": "text/x-python",
   "name": "python",
   "nbconvert_exporter": "python",
   "pygments_lexer": "ipython3",
   "version": "3.10.11"
  }
 },
 "nbformat": 4,
 "nbformat_minor": 5
}
