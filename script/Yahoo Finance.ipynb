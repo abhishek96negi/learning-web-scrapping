{
 "cells": [
  {
   "cell_type": "markdown",
   "id": "ba75813d",
   "metadata": {},
   "source": [
    "# How to Scrape Stock Prices from Yahoo Finance with Python"
   ]
  },
  {
   "cell_type": "code",
   "execution_count": 1,
   "id": "6496510e",
   "metadata": {},
   "outputs": [],
   "source": [
    "import requests\n",
    "from bs4 import BeautifulSoup\n",
    "\n",
    "# Define the headers dictionary with the user-agent information\n",
    "headers = {\n",
    "    'User-Agent': 'Mozilla/5.0 (Macintosh; Intel Mac OS X 10_15_7) AppleWebKit/537.36 (KHTML, like Gecko) Chrome/97.0.4692.71 Safari/537.36'\n",
    "}\n"
   ]
  },
  {
   "cell_type": "code",
   "execution_count": 2,
   "id": "20d8aa51",
   "metadata": {},
   "outputs": [],
   "source": [
    "def stock_price(company_symbol):\n",
    "    # Construct the URL using the company symbol\n",
    "    url = f'https://finance.yahoo.com/quote/{company_symbol}'\n",
    "    \n",
    "    # Send a GET request to the URL, using the defined headers\n",
    "    r = requests.get(url, headers=headers)\n",
    "    \n",
    "    # Parse the response content with BeautifulSoup\n",
    "    soup = BeautifulSoup(r.text, 'lxml')\n",
    "    \n",
    "    # Extract the company name from the 'h1' tag\n",
    "    company_name = soup.find('h1').text\n",
    "    \n",
    "    # Extract the price from the 'fin-streamer' tag with class 'Fw(b) Fz(36px) Mb(-4px) D(ib)'\n",
    "    price = soup.find('fin-streamer', class_='Fw(b) Fz(36px) Mb(-4px) D(ib)').text\n",
    "    \n",
    "    # Use a conditional expression to check if the 'change_price' element exists before extracting its text\n",
    "    change_price_element = soup.find('fin-streamer', class_='C($primaryColor) Fz(24px) Fw(b)')\n",
    "    change_price = change_price_element.text if change_price_element else 0\n",
    "    \n",
    "    return {\n",
    "        'Company Name': company_name,\n",
    "        'price': price,\n",
    "        'change_price': change_price\n",
    "    }\n"
   ]
  },
  {
   "cell_type": "code",
   "execution_count": 4,
   "id": "01328729",
   "metadata": {},
   "outputs": [
    {
     "name": "stdout",
     "output_type": "stream",
     "text": [
      "{'Company Name': 'Tesla, Inc. (TSLA)', 'price': '260.54', 'change_price': '261.48'}\n"
     ]
    }
   ],
   "source": [
    "# Call the function with the company symbol 'TSLA' and print the result\n",
    "result = stock_price('TSLA')\n",
    "print(result)"
   ]
  }
 ],
 "metadata": {
  "kernelspec": {
   "display_name": "Python 3 (ipykernel)",
   "language": "python",
   "name": "python3"
  },
  "language_info": {
   "codemirror_mode": {
    "name": "ipython",
    "version": 3
   },
   "file_extension": ".py",
   "mimetype": "text/x-python",
   "name": "python",
   "nbconvert_exporter": "python",
   "pygments_lexer": "ipython3",
   "version": "3.10.11"
  }
 },
 "nbformat": 4,
 "nbformat_minor": 5
}
